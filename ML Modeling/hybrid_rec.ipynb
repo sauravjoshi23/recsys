{
 "cells": [
  {
   "cell_type": "code",
   "execution_count": 2,
   "id": "ee43ef15",
   "metadata": {},
   "outputs": [
    {
     "data": {
      "application/vnd.jupyter.widget-view+json": {
       "model_id": "",
       "version_major": 2,
       "version_minor": 0
      },
      "text/plain": [
       "FloatProgress(value=0.0, bar_style='info', description='Progress:', layout=Layout(height='25px', width='50%'),…"
      ]
     },
     "metadata": {},
     "output_type": "display_data"
    }
   ],
   "source": [
    "from pyspark.sql import SparkSession\n",
    "from pyspark.ml.feature import HashingTF, IDF, Tokenizer, StringIndexer\n",
    "from pyspark.ml.recommendation import ALS\n",
    "from pyspark.ml.linalg import Vectors\n",
    "from pyspark.sql.functions import col, desc, max as max_fn, min as min_fn, explode\n",
    "from pyspark.sql.functions import udf, lit, array, struct, row_number\n",
    "from pyspark.sql.types import DoubleType, StringType\n",
    "from pyspark.ml.evaluation import RegressionEvaluator\n",
    "from pyspark.ml.fpm import FPGrowth\n",
    "from pyspark.sql.functions import array_contains\n",
    "from pyspark.sql.window import Window"
   ]
  },
  {
   "cell_type": "code",
   "execution_count": 3,
   "id": "5570bebe",
   "metadata": {},
   "outputs": [
    {
     "data": {
      "application/vnd.jupyter.widget-view+json": {
       "model_id": "",
       "version_major": 2,
       "version_minor": 0
      },
      "text/plain": [
       "FloatProgress(value=0.0, bar_style='info', description='Progress:', layout=Layout(height='25px', width='50%'),…"
      ]
     },
     "metadata": {},
     "output_type": "display_data"
    }
   ],
   "source": [
    "spark = SparkSession.builder.appName(\"recsys\").getOrCreate()"
   ]
  },
  {
   "cell_type": "markdown",
   "id": "da6e584e",
   "metadata": {},
   "source": [
    "## Content Based"
   ]
  },
  {
   "cell_type": "code",
   "execution_count": 4,
   "id": "4b314c61",
   "metadata": {},
   "outputs": [
    {
     "data": {
      "application/vnd.jupyter.widget-view+json": {
       "model_id": "",
       "version_major": 2,
       "version_minor": 0
      },
      "text/plain": [
       "FloatProgress(value=0.0, bar_style='info', description='Progress:', layout=Layout(height='25px', width='50%'),…"
      ]
     },
     "metadata": {},
     "output_type": "display_data"
    }
   ],
   "source": [
    "bucket = \"recsys-aws\"\n",
    "key_ads_content_prefix = \"silver_data/ads_content_transformed/\"\n",
    "key_user_ad_matrix_prefix = \"silver_data/user_ad_matrix/\"\n",
    "\n",
    "ads_content_df = spark.read.option(\"multiline\", \"true\").csv(\n",
    "    f\"s3://{bucket}/{key_ads_content_prefix}\",\n",
    "    header=True,\n",
    "    inferSchema=True,\n",
    "    quote='\"', \n",
    "    escape='\"'\n",
    ")\n",
    "user_ad_interactions_df = spark.read.csv(f\"s3://{bucket}/{key_user_ad_matrix_prefix}\",\n",
    "                                         header=True,\n",
    "                                         inferSchema=True)"
   ]
  },
  {
   "cell_type": "code",
   "execution_count": 5,
   "id": "f79339ee",
   "metadata": {},
   "outputs": [
    {
     "data": {
      "application/vnd.jupyter.widget-view+json": {
       "model_id": "",
       "version_major": 2,
       "version_minor": 0
      },
      "text/plain": [
       "FloatProgress(value=0.0, bar_style='info', description='Progress:', layout=Layout(height='25px', width='50%'),…"
      ]
     },
     "metadata": {},
     "output_type": "display_data"
    }
   ],
   "source": [
    "tokenizer = Tokenizer(inputCol=\"content_combined\", outputCol=\"words\")\n",
    "ads_content_df = tokenizer.transform(ads_content_df)\n",
    "hashingTF = HashingTF(inputCol=\"words\", outputCol=\"rawFeatures\")\n",
    "tf = hashingTF.transform(ads_content_df)\n",
    "idf = IDF(inputCol=\"rawFeatures\", outputCol=\"features\")\n",
    "idfModel = idf.fit(tf)\n",
    "tfidf_matrix = idfModel.transform(tf)\n",
    "tfidf_matrix.cache()\n",
    "\n",
    "def get_user_profile(user_id, interactions_df, tfidf_matrix):\n",
    "    user_interactions = interactions_df.filter(col(\"userId\") == user_id).collect()[0].asDict()\n",
    "    del user_interactions[\"userId\"]\n",
    "    interacted_ads = [ad for ad, score in user_interactions.items() if float(score) > 0]\n",
    "    user_tfidf = tfidf_matrix.filter(col(\"adId\").isin(interacted_ads)) \n",
    "    avg_vector = Vectors.dense([0] * tfidf_matrix.select(\"features\").limit(1).collect()[0].features.size)\n",
    "    for row in user_tfidf.collect():\n",
    "        avg_vector += row.features\n",
    "    avg_vector /= len(interacted_ads)\n",
    "    return avg_vector\n",
    "\n",
    "def content_based_recommendation(user_id, user_interactions_df, tfidf_matrix, top_n=10):\n",
    "    user_profile = get_user_profile(user_id, user_interactions_df, tfidf_matrix)\n",
    "    if user_profile is None:\n",
    "        return None\n",
    "    dot_product = udf(lambda x: float(x.dot(user_profile)), DoubleType())\n",
    "    similarity_scores = tfidf_matrix.withColumn(\"similarity_score\", dot_product(col(\"features\")))\n",
    "    max_score = similarity_scores.agg(max_fn(\"similarity_score\")).collect()[0][0]\n",
    "    min_score = similarity_scores.agg(min_fn(\"similarity_score\")).collect()[0][0]\n",
    "    normalize = udf(lambda x: (x - min_score) / (max_score - min_score) if max_score != min_score else 0.5, DoubleType())\n",
    "    similarity_scores = similarity_scores.withColumn(\"normalized_similarity\", normalize(col(\"similarity_score\")))\n",
    "    top_ads = (similarity_scores\n",
    "               .orderBy(desc(\"normalized_similarity\"))\n",
    "               .limit(top_n)\n",
    "               .select(\"adId\", \"normalized_similarity\"))\n",
    "    return top_ads"
   ]
  },
  {
   "cell_type": "code",
   "execution_count": 6,
   "id": "2590bee5",
   "metadata": {},
   "outputs": [
    {
     "data": {
      "application/vnd.jupyter.widget-view+json": {
       "model_id": "",
       "version_major": 2,
       "version_minor": 0
      },
      "text/plain": [
       "FloatProgress(value=0.0, bar_style='info', description='Progress:', layout=Layout(height='25px', width='50%'),…"
      ]
     },
     "metadata": {},
     "output_type": "display_data"
    }
   ],
   "source": [
    "user_id_to_recommend = \"4f3aecdc-f7d8-4718-925c-96d81c3765f3\"\n",
    "recommended_ads_df = content_based_recommendation(user_id_to_recommend, user_ad_interactions_df, tfidf_matrix)"
   ]
  },
  {
   "cell_type": "markdown",
   "id": "b6235f4c",
   "metadata": {},
   "source": [
    "## Collaborative Filtering"
   ]
  },
  {
   "cell_type": "code",
   "execution_count": 7,
   "id": "7e897bd7",
   "metadata": {},
   "outputs": [
    {
     "data": {
      "application/vnd.jupyter.widget-view+json": {
       "model_id": "",
       "version_major": 2,
       "version_minor": 0
      },
      "text/plain": [
       "FloatProgress(value=0.0, bar_style='info', description='Progress:', layout=Layout(height='25px', width='50%'),…"
      ]
     },
     "metadata": {},
     "output_type": "display_data"
    }
   ],
   "source": [
    "bucket = \"recsys-aws\"\n",
    "key_user_ad_matrix_prefix = \"silver_data/user_ad_matrix/\"\n",
    "user_ad_interactions_df = spark.read.csv(f\"s3://{bucket}/{key_user_ad_matrix_prefix}\",\n",
    "                                         header=True,\n",
    "                                         inferSchema=True)"
   ]
  },
  {
   "cell_type": "code",
   "execution_count": 8,
   "id": "ed4230c2",
   "metadata": {},
   "outputs": [
    {
     "data": {
      "application/vnd.jupyter.widget-view+json": {
       "model_id": "",
       "version_major": 2,
       "version_minor": 0
      },
      "text/plain": [
       "FloatProgress(value=0.0, bar_style='info', description='Progress:', layout=Layout(height='25px', width='50%'),…"
      ]
     },
     "metadata": {},
     "output_type": "display_data"
    }
   ],
   "source": [
    "cols = [c for c in user_ad_interactions_df.columns if c != \"userId\"]\n",
    "long_format = (user_ad_interactions_df\n",
    "               .withColumn(\"adId_rating\", explode(array([struct(col(c).alias(\"rating\"), lit(c).alias(\"adId\")) for c in cols])))\n",
    "               .select(\"userId\", \"adId_rating.adId\", \"adId_rating.rating\"))\n",
    "\n",
    "user_indexer = StringIndexer(inputCol=\"userId\", outputCol=\"userId_indexed\")\n",
    "ad_indexer = StringIndexer(inputCol=\"adId\", outputCol=\"adId_indexed\")\n",
    "user_model = user_indexer.fit(long_format)\n",
    "adId_model = ad_indexer.fit(long_format)\n",
    "long_format = user_model.transform(long_format)\n",
    "long_format = adId_model.transform(long_format)\n",
    "\n",
    "(training, test) = long_format.randomSplit([0.8, 0.2])\n",
    "\n",
    "als = ALS(\n",
    "    maxIter=10, \n",
    "    regParam=0.01, \n",
    "    userCol=\"userId_indexed\", \n",
    "    itemCol=\"adId_indexed\", \n",
    "    ratingCol=\"rating\", \n",
    "    coldStartStrategy=\"drop\"\n",
    ")\n",
    "\n",
    "model = als.fit(training)\n",
    "\n",
    "user_id_to_recommend = \"4f3aecdc-f7d8-4718-925c-96d81c3765f3\"\n",
    "n_recommendations = 10\n",
    "user_indexed = user_model.transform(spark.createDataFrame([(user_id_to_recommend,)], [\"userId\"]))\n",
    "recs = model.recommendForUserSubset(user_indexed, n_recommendations)\n",
    "recs = recs.withColumn(\"adId_indexed\", explode(col(\"recommendations.adId_indexed\")))\n",
    "\n",
    "def index_to_id(index):\n",
    "    return ad_id_labels[int(index)]\n",
    "\n",
    "ad_id_labels = adId_model.labels\n",
    "index_to_id_udf = udf(index_to_id, StringType())\n",
    "recs_with_original_ids = recs.withColumn(\"original_adId\", index_to_id_udf(\"adId_indexed\"))\n",
    "\n",
    "exploded_recommendations = recs_with_original_ids.select(\"userId_indexed\", explode(\"recommendations\").alias(\"recommendation\"))\n",
    "exploded_adId_indexed = exploded_recommendations.select(\"userId_indexed\", \"recommendation.adId_indexed\")\n",
    "\n",
    "labels_df = spark.createDataFrame([(i, label) for i, label in enumerate(ad_id_labels)], [\"index\", \"label\"])\n",
    "final_recommended_adIds = exploded_adId_indexed.join(labels_df, exploded_adId_indexed.adId_indexed == labels_df.index)\n",
    "final_result = final_recommended_adIds.select(\"userId_indexed\", \"label\").withColumnRenamed(\"label\", \"recommended_adId\")\n",
    "final_result = final_result.dropDuplicates(['userId_indexed', 'recommended_adId'])"
   ]
  },
  {
   "cell_type": "markdown",
   "id": "f98c58cd",
   "metadata": {},
   "source": [
    "## Market Basket Analysis"
   ]
  },
  {
   "cell_type": "code",
   "execution_count": 9,
   "id": "ccf2ab2a",
   "metadata": {},
   "outputs": [
    {
     "data": {
      "application/vnd.jupyter.widget-view+json": {
       "model_id": "",
       "version_major": 2,
       "version_minor": 0
      },
      "text/plain": [
       "FloatProgress(value=0.0, bar_style='info', description='Progress:', layout=Layout(height='25px', width='50%'),…"
      ]
     },
     "metadata": {},
     "output_type": "display_data"
    }
   ],
   "source": [
    "bucket = \"recsys-aws\"\n",
    "key_transaction_matrix_prefix = \"silver_data/transaction_matrix/\"\n",
    "transactions_df = spark.read.csv(f\"s3://{bucket}/{key_transaction_matrix_prefix}\", \n",
    "                                 header=True, \n",
    "                                 inferSchema=True)\n",
    "transactions_rdd = transactions_df.rdd.map(lambda row: [adId for adId, value in row.asDict().items() if value == 1])\n",
    "transactions_list_df = transactions_rdd.map(lambda items: (items, )).toDF([\"items\"])"
   ]
  },
  {
   "cell_type": "code",
   "execution_count": 10,
   "id": "0d307bf0",
   "metadata": {},
   "outputs": [
    {
     "data": {
      "application/vnd.jupyter.widget-view+json": {
       "model_id": "",
       "version_major": 2,
       "version_minor": 0
      },
      "text/plain": [
       "FloatProgress(value=0.0, bar_style='info', description='Progress:', layout=Layout(height='25px', width='50%'),…"
      ]
     },
     "metadata": {},
     "output_type": "display_data"
    }
   ],
   "source": [
    "fp_growth = FPGrowth(itemsCol=\"items\", minSupport=0.01, minConfidence=0.1)\n",
    "model = fp_growth.fit(transactions_list_df)\n",
    "frequent_itemsets = model.freqItemsets\n",
    "# frequent_itemsets.show()\n",
    "\n",
    "association_rules = model.associationRules\n",
    "# association_rules.show()\n",
    "\n",
    "def recommend_top10_ads(adId):\n",
    "    recommendations = association_rules.filter(array_contains(association_rules.antecedent, adId)).orderBy(\"confidence\", ascending=False).limit(10)\n",
    "    return recommendations.select(\"consequent\")\n",
    "\n",
    "adId = \"f48ed980-d1ed-4c41-b676-c951dccc3e50\"\n",
    "top_10_recommendations = recommend_top10_ads(adId)\n",
    "# top_10_recommendations.show()"
   ]
  },
  {
   "cell_type": "markdown",
   "id": "0fa4c1dd",
   "metadata": {},
   "source": [
    "## Hybrid Recommendation"
   ]
  },
  {
   "cell_type": "code",
   "execution_count": 11,
   "id": "66c04ce3",
   "metadata": {},
   "outputs": [
    {
     "data": {
      "application/vnd.jupyter.widget-view+json": {
       "model_id": "",
       "version_major": 2,
       "version_minor": 0
      },
      "text/plain": [
       "FloatProgress(value=0.0, bar_style='info', description='Progress:', layout=Layout(height='25px', width='50%'),…"
      ]
     },
     "metadata": {},
     "output_type": "display_data"
    }
   ],
   "source": [
    "def hybrid_recommendations(content_df, collaborative_df, mba_df, content_weight=0.5, collaborative_weight=0.3, mba_weight=0.2):\n",
    "    content_df = content_df.withColumn(\"weighted_similarity\", content_df[\"normalized_similarity\"] * lit(content_weight))\n",
    "    windowSpec = Window.orderBy(lit(1))\n",
    "    collaborative_df = (collaborative_df.withColumn(\"rank\", row_number().over(windowSpec))\n",
    "                        .withColumn(\"collab_score\", (lit(1.1) - col(\"rank\") * 0.1) * collaborative_weight))\n",
    "    mba_df = mba_df.withColumn(\"mba_score\", lit(mba_weight))\n",
    "    hybrid_df = (content_df.selectExpr(\"adId\", \"weighted_similarity as score\")\n",
    "                 .union(collaborative_df.selectExpr(\"recommended_adId as adId\", \"collab_score as score\"))\n",
    "                 .union(mba_df.selectExpr(\"consequent[0] as adId\", \"mba_score as score\")))\n",
    "    hybrid_df = (hybrid_df.groupBy(\"adId\")\n",
    "                 .agg({\"score\": \"sum\"})\n",
    "                 .withColumnRenamed(\"sum(score)\", \"final_score\"))\n",
    "    hybrid_df = hybrid_df.orderBy(\"final_score\", ascending=False)\n",
    "    return hybrid_df"
   ]
  },
  {
   "cell_type": "code",
   "execution_count": 12,
   "id": "a82aa645",
   "metadata": {},
   "outputs": [
    {
     "data": {
      "application/vnd.jupyter.widget-view+json": {
       "model_id": "",
       "version_major": 2,
       "version_minor": 0
      },
      "text/plain": [
       "FloatProgress(value=0.0, bar_style='info', description='Progress:', layout=Layout(height='25px', width='50%'),…"
      ]
     },
     "metadata": {},
     "output_type": "display_data"
    },
    {
     "name": "stdout",
     "output_type": "stream",
     "text": [
      "+--------------------+--------------------+\n",
      "|                adId|         final_score|\n",
      "+--------------------+--------------------+\n",
      "|bc4d3e39-7e06-4c3...|  0.5958478797705753|\n",
      "|a4596d16-e59d-40c...|                 0.5|\n",
      "|023d7aba-d5df-459...| 0.46063288566578653|\n",
      "|552bfdf5-f621-4ff...|                0.44|\n",
      "|d83f913c-87e3-48c...|                 0.3|\n",
      "|1fc15d7d-cd72-41a...|                0.27|\n",
      "|1a47c3ae-0788-442...| 0.21000000000000002|\n",
      "|286c2cf4-aeda-42c...|                 0.2|\n",
      "|0fd2dc23-5c71-464...| 0.18000000000000002|\n",
      "|191a9db3-cce6-4bb...|                0.12|\n",
      "|fc78a2e5-8846-46d...| 0.09000000000000001|\n",
      "|d7f30c52-c3c5-410...| 0.07781005122490021|\n",
      "|e123eaef-e554-46a...| 0.07090979722530041|\n",
      "|60e6c683-e7da-4c5...| 0.06615404225423652|\n",
      "|1601cd49-e527-4df...| 0.06584521596863807|\n",
      "|f8931240-4505-4d3...| 0.06363419799324793|\n",
      "|9b8b83b2-36da-4ce...|  0.0634219260068277|\n",
      "|c26bd44f-40fa-4f5...| 0.06000000000000002|\n",
      "|9f15ae6f-2c64-4d9...| 0.05861617166906294|\n",
      "|87e843ce-a174-446...|0.030000000000000027|\n",
      "+--------------------+--------------------+"
     ]
    }
   ],
   "source": [
    "final_hybrid_recommendations = hybrid_recommendations(recommended_ads_df, final_result, top_10_recommendations)\n",
    "final_hybrid_recommendations.show()"
   ]
  },
  {
   "cell_type": "code",
   "execution_count": null,
   "id": "5fd8f60a",
   "metadata": {},
   "outputs": [],
   "source": []
  }
 ],
 "metadata": {
  "kernelspec": {
   "display_name": "Sparkmagic (PySpark)",
   "language": "python",
   "name": "pysparkkernel"
  },
  "language_info": {
   "codemirror_mode": {
    "name": "python",
    "version": 3
   },
   "file_extension": ".py",
   "mimetype": "text/x-python",
   "name": "pyspark",
   "pygments_lexer": "python3"
  }
 },
 "nbformat": 4,
 "nbformat_minor": 5
}
