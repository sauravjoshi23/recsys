{
 "cells": [
  {
   "cell_type": "code",
   "execution_count": 2,
   "id": "3d3321c0",
   "metadata": {},
   "outputs": [
    {
     "data": {
      "application/vnd.jupyter.widget-view+json": {
       "model_id": "",
       "version_major": 2,
       "version_minor": 0
      },
      "text/plain": [
       "FloatProgress(value=0.0, bar_style='info', description='Progress:', layout=Layout(height='25px', width='50%'),…"
      ]
     },
     "metadata": {},
     "output_type": "display_data"
    }
   ],
   "source": [
    "from pyspark.sql import SparkSession\n",
    "from pyspark.ml.fpm import FPGrowth\n",
    "from pyspark.sql.functions import array_contains"
   ]
  },
  {
   "cell_type": "code",
   "execution_count": 3,
   "id": "4811a1e2",
   "metadata": {},
   "outputs": [
    {
     "data": {
      "application/vnd.jupyter.widget-view+json": {
       "model_id": "",
       "version_major": 2,
       "version_minor": 0
      },
      "text/plain": [
       "FloatProgress(value=0.0, bar_style='info', description='Progress:', layout=Layout(height='25px', width='50%'),…"
      ]
     },
     "metadata": {},
     "output_type": "display_data"
    }
   ],
   "source": [
    "spark = SparkSession.builder.appName(\"recsys\").getOrCreate()"
   ]
  },
  {
   "cell_type": "code",
   "execution_count": 4,
   "id": "10aae38a",
   "metadata": {},
   "outputs": [
    {
     "data": {
      "application/vnd.jupyter.widget-view+json": {
       "model_id": "",
       "version_major": 2,
       "version_minor": 0
      },
      "text/plain": [
       "FloatProgress(value=0.0, bar_style='info', description='Progress:', layout=Layout(height='25px', width='50%'),…"
      ]
     },
     "metadata": {},
     "output_type": "display_data"
    }
   ],
   "source": [
    "bucket = \"recsys-aws\"\n",
    "key_transaction_matrix_prefix = \"silver_data/transaction_matrix/\"\n",
    "transactions_df = spark.read.csv(f\"s3://{bucket}/{key_transaction_matrix_prefix}\", \n",
    "                                 header=True, \n",
    "                                 inferSchema=True)\n",
    "transactions_rdd = transactions_df.rdd.map(lambda row: [adId for adId, value in row.asDict().items() if value == 1])\n",
    "transactions_list_df = transactions_rdd.map(lambda items: (items, )).toDF([\"items\"])"
   ]
  },
  {
   "cell_type": "code",
   "execution_count": 5,
   "id": "4e4bbf01",
   "metadata": {},
   "outputs": [
    {
     "data": {
      "application/vnd.jupyter.widget-view+json": {
       "model_id": "",
       "version_major": 2,
       "version_minor": 0
      },
      "text/plain": [
       "FloatProgress(value=0.0, bar_style='info', description='Progress:', layout=Layout(height='25px', width='50%'),…"
      ]
     },
     "metadata": {},
     "output_type": "display_data"
    },
    {
     "name": "stdout",
     "output_type": "stream",
     "text": [
      "+--------------------+----+\n",
      "|               items|freq|\n",
      "+--------------------+----+\n",
      "|[1a47c3ae-0788-44...|   1|\n",
      "|[1a47c3ae-0788-44...|   1|\n",
      "|[4884cea3-1b2a-4c...|   1|\n",
      "|[a333ee96-16b4-44...|   1|\n",
      "|[a333ee96-16b4-44...|   1|\n",
      "|[c43a2d97-4ff4-49...|   1|\n",
      "|[5966a084-dca0-4c...|   2|\n",
      "|[5966a084-dca0-4c...|   1|\n",
      "|[552bfdf5-f621-4f...|   1|\n",
      "|[552bfdf5-f621-4f...|   1|\n",
      "|[8ede340e-4918-46...|   1|\n",
      "|[8ede340e-4918-46...|   1|\n",
      "|[be315b90-6d33-48...|   2|\n",
      "|[64dead02-32bd-44...|   1|\n",
      "|[508d1adf-7724-44...|   2|\n",
      "|[a745943c-7a7b-4d...|   1|\n",
      "|[b17562a6-0fbd-47...|   1|\n",
      "|[f5861e5d-db24-4b...|   2|\n",
      "|[f5861e5d-db24-4b...|   1|\n",
      "|[6fd47814-93f5-47...|   1|\n",
      "+--------------------+----+\n",
      "only showing top 20 rows"
     ]
    }
   ],
   "source": [
    "fp_growth = FPGrowth(itemsCol=\"items\", minSupport=0.01, minConfidence=0.1)\n",
    "model = fp_growth.fit(transactions_list_df)\n",
    "frequent_itemsets = model.freqItemsets\n",
    "frequent_itemsets.show()"
   ]
  },
  {
   "cell_type": "code",
   "execution_count": 6,
   "id": "b5499a51",
   "metadata": {},
   "outputs": [
    {
     "data": {
      "application/vnd.jupyter.widget-view+json": {
       "model_id": "",
       "version_major": 2,
       "version_minor": 0
      },
      "text/plain": [
       "FloatProgress(value=0.0, bar_style='info', description='Progress:', layout=Layout(height='25px', width='50%'),…"
      ]
     },
     "metadata": {},
     "output_type": "display_data"
    },
    {
     "name": "stdout",
     "output_type": "stream",
     "text": [
      "+--------------------+--------------------+------------------+------------------+-------+\n",
      "|          antecedent|          consequent|        confidence|              lift|support|\n",
      "+--------------------+--------------------+------------------+------------------+-------+\n",
      "|[e1a31fff-bb12-4c...|[a16f04da-911c-41...|               0.5|              50.0|   0.01|\n",
      "|[e1a31fff-bb12-4c...|[61a75039-9bb8-4b...|               0.5|              50.0|   0.01|\n",
      "|[d5f4d7ef-ac83-48...|[12f62edf-6466-49...|               1.0|              50.0|   0.01|\n",
      "|[6fd47814-93f5-47...|[6c823347-b87a-42...|               1.0|              50.0|   0.01|\n",
      "|[2fe641d4-3a0a-48...|[8ede340e-4918-46...|               1.0|             100.0|   0.01|\n",
      "|[3e7b8023-e74d-47...|[5773d5ba-f4ed-48...|               1.0|             100.0|   0.01|\n",
      "|[6eebd0f0-a308-45...|[08dd6cc5-bcfe-4d...|               0.5|              50.0|   0.01|\n",
      "|[5687c65d-18e5-43...|[5304773f-c233-43...|               0.5|16.666666666666668|   0.01|\n",
      "|[5687c65d-18e5-43...|[c26bd44f-40fa-4f...|               0.5|              25.0|   0.01|\n",
      "|[2f39c54f-f6e3-40...|[3e228062-4b18-44...|               1.0|33.333333333333336|   0.01|\n",
      "|[e10773a6-1295-4b...|[daf761a1-ec9e-45...|0.3333333333333333|16.666666666666664|   0.01|\n",
      "|[e10773a6-1295-4b...|[df443f95-053b-4c...|0.3333333333333333| 33.33333333333333|   0.01|\n",
      "|[019c93b1-c0bb-45...|[7c59449c-3e86-4e...|               1.0|             100.0|   0.01|\n",
      "|[a16f04da-911c-41...|[e1a31fff-bb12-4c...|               1.0|              50.0|   0.01|\n",
      "|[7c59449c-3e86-4e...|[019c93b1-c0bb-45...|               1.0|             100.0|   0.01|\n",
      "|[eab349a7-e904-4e...|[1601cd49-e527-4d...|               1.0|              50.0|   0.01|\n",
      "|[5304773f-c233-43...|[5687c65d-18e5-43...|0.3333333333333333|16.666666666666664|   0.01|\n",
      "|[5304773f-c233-43...|[87e843ce-a174-44...|0.3333333333333333|16.666666666666664|   0.01|\n",
      "|[83395324-e52b-47...|[70422edc-f4f3-4c...|               1.0|             100.0|   0.01|\n",
      "|[0e851d3b-063b-4f...|[2314ca3b-3241-4b...|               1.0|             100.0|   0.01|\n",
      "+--------------------+--------------------+------------------+------------------+-------+\n",
      "only showing top 20 rows"
     ]
    }
   ],
   "source": [
    "association_rules = model.associationRules\n",
    "association_rules.show()"
   ]
  },
  {
   "cell_type": "code",
   "execution_count": 7,
   "id": "dcb1de66",
   "metadata": {},
   "outputs": [
    {
     "data": {
      "application/vnd.jupyter.widget-view+json": {
       "model_id": "",
       "version_major": 2,
       "version_minor": 0
      },
      "text/plain": [
       "FloatProgress(value=0.0, bar_style='info', description='Progress:', layout=Layout(height='25px', width='50%'),…"
      ]
     },
     "metadata": {},
     "output_type": "display_data"
    },
    {
     "name": "stdout",
     "output_type": "stream",
     "text": [
      "+--------------------+\n",
      "|          consequent|\n",
      "+--------------------+\n",
      "|[552bfdf5-f621-4f...|\n",
      "|[286c2cf4-aeda-42...|\n",
      "+--------------------+"
     ]
    }
   ],
   "source": [
    "def recommend_top10_ads(adId):\n",
    "    recommendations = association_rules.filter(array_contains(association_rules.antecedent, adId)).orderBy(\"confidence\", ascending=False).limit(10)\n",
    "    return recommendations.select(\"consequent\")\n",
    "\n",
    "adId = \"f48ed980-d1ed-4c41-b676-c951dccc3e50\"\n",
    "top_10_recommendations = recommend_top10_ads(adId)\n",
    "top_10_recommendations.show()"
   ]
  },
  {
   "cell_type": "code",
   "execution_count": null,
   "id": "a3386c5b",
   "metadata": {},
   "outputs": [],
   "source": []
  }
 ],
 "metadata": {
  "kernelspec": {
   "display_name": "Sparkmagic (PySpark)",
   "language": "python",
   "name": "pysparkkernel"
  },
  "language_info": {
   "codemirror_mode": {
    "name": "python",
    "version": 3
   },
   "file_extension": ".py",
   "mimetype": "text/x-python",
   "name": "pyspark",
   "pygments_lexer": "python3"
  }
 },
 "nbformat": 4,
 "nbformat_minor": 5
}
