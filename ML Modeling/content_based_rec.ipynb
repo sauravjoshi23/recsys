{
 "cells": [
  {
   "cell_type": "code",
   "execution_count": 3,
   "id": "c0f35bb2",
   "metadata": {},
   "outputs": [
    {
     "data": {
      "application/vnd.jupyter.widget-view+json": {
       "model_id": "",
       "version_major": 2,
       "version_minor": 0
      },
      "text/plain": [
       "FloatProgress(value=0.0, bar_style='info', description='Progress:', layout=Layout(height='25px', width='50%'),…"
      ]
     },
     "metadata": {},
     "output_type": "display_data"
    }
   ],
   "source": [
    "from pyspark.sql import SparkSession\n",
    "from pyspark.ml.feature import HashingTF, IDF, Tokenizer\n",
    "from pyspark.ml.linalg import Vectors\n",
    "from pyspark.sql.functions import col, desc, max as max_fn, min as min_fn\n",
    "from pyspark.sql.functions import udf\n",
    "from pyspark.sql.types import DoubleType"
   ]
  },
  {
   "cell_type": "code",
   "execution_count": 4,
   "id": "20713bda",
   "metadata": {},
   "outputs": [
    {
     "data": {
      "application/vnd.jupyter.widget-view+json": {
       "model_id": "",
       "version_major": 2,
       "version_minor": 0
      },
      "text/plain": [
       "FloatProgress(value=0.0, bar_style='info', description='Progress:', layout=Layout(height='25px', width='50%'),…"
      ]
     },
     "metadata": {},
     "output_type": "display_data"
    }
   ],
   "source": [
    "spark = SparkSession.builder.appName(\"recsys\").getOrCreate()"
   ]
  },
  {
   "cell_type": "code",
   "execution_count": 5,
   "id": "720db724",
   "metadata": {},
   "outputs": [
    {
     "data": {
      "application/vnd.jupyter.widget-view+json": {
       "model_id": "",
       "version_major": 2,
       "version_minor": 0
      },
      "text/plain": [
       "FloatProgress(value=0.0, bar_style='info', description='Progress:', layout=Layout(height='25px', width='50%'),…"
      ]
     },
     "metadata": {},
     "output_type": "display_data"
    }
   ],
   "source": [
    "bucket = \"recsys-aws\"\n",
    "key_ads_content_prefix = \"silver_data/ads_content_transformed/\"\n",
    "key_user_ad_matrix_prefix = \"silver_data/user_ad_matrix/\"\n",
    "\n",
    "ads_content_df = spark.read.option(\"multiline\", \"true\").csv(\n",
    "    f\"s3://{bucket}/{key_ads_content_prefix}\",\n",
    "    header=True,\n",
    "    inferSchema=True,\n",
    "    quote='\"', \n",
    "    escape='\"'\n",
    ")\n",
    "user_ad_interactions_df = spark.read.csv(f\"s3://{bucket}/{key_user_ad_matrix_prefix}\",\n",
    "                                         header=True,\n",
    "                                         inferSchema=True)"
   ]
  },
  {
   "cell_type": "code",
   "execution_count": 6,
   "id": "0fcb361e",
   "metadata": {},
   "outputs": [
    {
     "data": {
      "application/vnd.jupyter.widget-view+json": {
       "model_id": "",
       "version_major": 2,
       "version_minor": 0
      },
      "text/plain": [
       "FloatProgress(value=0.0, bar_style='info', description='Progress:', layout=Layout(height='25px', width='50%'),…"
      ]
     },
     "metadata": {},
     "output_type": "display_data"
    },
    {
     "name": "stdout",
     "output_type": "stream",
     "text": [
      "+--------------------+--------------------+--------------------+--------+--------------------+--------------------+\n",
      "|                adid|               title|         description|category|                tags|    content_combined|\n",
      "+--------------------+--------------------+--------------------+--------+--------------------+--------------------+\n",
      "|6fd47814-93f5-47f...|Stand-alone solut...|Specific argue yo...|    Tech|     plan,same,start|Stand-alone solut...|\n",
      "|acceb9fa-4711-4ef...|Managed secondary...|State they least ...| Fashion|audience,single,p...|Managed secondary...|\n",
      "|4f2a159b-606f-4e2...|Extended high-lev...|Important goal te...| Fashion|identify,relation...|Extended high-lev...|\n",
      "|1601cd49-e527-4df...|Public-key non-vo...|Carry together wh...|  Travel| campaign,stuff,over|Public-key non-vo...|\n",
      "|446bccdd-5984-4da...|Phased non-volati...|Pay other door al...|    Tech|  dog,thousand,seven|Phased non-volati...|\n",
      "+--------------------+--------------------+--------------------+--------+--------------------+--------------------+\n",
      "only showing top 5 rows"
     ]
    }
   ],
   "source": [
    "ads_content_df.show(5)"
   ]
  },
  {
   "cell_type": "code",
   "execution_count": 7,
   "id": "ae203123",
   "metadata": {},
   "outputs": [
    {
     "data": {
      "application/vnd.jupyter.widget-view+json": {
       "model_id": "",
       "version_major": 2,
       "version_minor": 0
      },
      "text/plain": [
       "FloatProgress(value=0.0, bar_style='info', description='Progress:', layout=Layout(height='25px', width='50%'),…"
      ]
     },
     "metadata": {},
     "output_type": "display_data"
    }
   ],
   "source": [
    "tokenizer = Tokenizer(inputCol=\"content_combined\", outputCol=\"words\")\n",
    "ads_content_df = tokenizer.transform(ads_content_df)"
   ]
  },
  {
   "cell_type": "code",
   "execution_count": 8,
   "id": "3e1b9bd7",
   "metadata": {},
   "outputs": [
    {
     "data": {
      "application/vnd.jupyter.widget-view+json": {
       "model_id": "",
       "version_major": 2,
       "version_minor": 0
      },
      "text/plain": [
       "FloatProgress(value=0.0, bar_style='info', description='Progress:', layout=Layout(height='25px', width='50%'),…"
      ]
     },
     "metadata": {},
     "output_type": "display_data"
    }
   ],
   "source": [
    "hashingTF = HashingTF(inputCol=\"words\", outputCol=\"rawFeatures\")\n",
    "tf = hashingTF.transform(ads_content_df)"
   ]
  },
  {
   "cell_type": "code",
   "execution_count": 10,
   "id": "648c61a0",
   "metadata": {},
   "outputs": [
    {
     "data": {
      "application/vnd.jupyter.widget-view+json": {
       "model_id": "",
       "version_major": 2,
       "version_minor": 0
      },
      "text/plain": [
       "FloatProgress(value=0.0, bar_style='info', description='Progress:', layout=Layout(height='25px', width='50%'),…"
      ]
     },
     "metadata": {},
     "output_type": "display_data"
    },
    {
     "name": "stdout",
     "output_type": "stream",
     "text": [
      "DataFrame[adid: string, title: string, description: string, category: string, tags: string, content_combined: string, words: array<string>, rawFeatures: vector, features: vector]"
     ]
    }
   ],
   "source": [
    "idf = IDF(inputCol=\"rawFeatures\", outputCol=\"features\")\n",
    "idfModel = idf.fit(tf)\n",
    "tfidf_matrix = idfModel.transform(tf)\n",
    "tfidf_matrix.cache()"
   ]
  },
  {
   "cell_type": "code",
   "execution_count": 11,
   "id": "f10083c8",
   "metadata": {},
   "outputs": [
    {
     "data": {
      "application/vnd.jupyter.widget-view+json": {
       "model_id": "",
       "version_major": 2,
       "version_minor": 0
      },
      "text/plain": [
       "FloatProgress(value=0.0, bar_style='info', description='Progress:', layout=Layout(height='25px', width='50%'),…"
      ]
     },
     "metadata": {},
     "output_type": "display_data"
    }
   ],
   "source": [
    "def get_user_profile(user_id, interactions_df, tfidf_matrix):\n",
    "    user_interactions = interactions_df.filter(col(\"userId\") == user_id).collect()[0].asDict()\n",
    "    del user_interactions[\"userId\"]\n",
    "    interacted_ads = [ad for ad, score in user_interactions.items() if float(score) > 0]\n",
    "    user_tfidf = tfidf_matrix.filter(col(\"adId\").isin(interacted_ads)) \n",
    "    avg_vector = Vectors.dense([0] * tfidf_matrix.select(\"features\").limit(1).collect()[0].features.size)\n",
    "    for row in user_tfidf.collect():\n",
    "        avg_vector += row.features\n",
    "    avg_vector /= len(interacted_ads)\n",
    "    return avg_vector\n",
    "\n",
    "def content_based_recommendation(user_id, user_interactions_df, tfidf_matrix, top_n=10):\n",
    "    user_profile = get_user_profile(user_id, user_interactions_df, tfidf_matrix)\n",
    "    if user_profile is None:\n",
    "        return None\n",
    "    dot_product = udf(lambda x: float(x.dot(user_profile)), DoubleType())\n",
    "    similarity_scores = tfidf_matrix.withColumn(\"similarity_score\", dot_product(col(\"features\")))\n",
    "    max_score = similarity_scores.agg(max_fn(\"similarity_score\")).collect()[0][0]\n",
    "    min_score = similarity_scores.agg(min_fn(\"similarity_score\")).collect()[0][0]\n",
    "    normalize = udf(lambda x: (x - min_score) / (max_score - min_score) if max_score != min_score else 0.5, DoubleType())\n",
    "    similarity_scores = similarity_scores.withColumn(\"normalized_similarity\", normalize(col(\"similarity_score\")))\n",
    "    top_ads = (similarity_scores\n",
    "               .orderBy(desc(\"normalized_similarity\"))\n",
    "               .limit(top_n)\n",
    "               .select(\"adId\", \"normalized_similarity\"))\n",
    "    return top_ads"
   ]
  },
  {
   "cell_type": "code",
   "execution_count": 12,
   "id": "c77d8c71",
   "metadata": {},
   "outputs": [
    {
     "data": {
      "application/vnd.jupyter.widget-view+json": {
       "model_id": "",
       "version_major": 2,
       "version_minor": 0
      },
      "text/plain": [
       "FloatProgress(value=0.0, bar_style='info', description='Progress:', layout=Layout(height='25px', width='50%'),…"
      ]
     },
     "metadata": {},
     "output_type": "display_data"
    }
   ],
   "source": [
    "user_id_to_recommend = \"4f3aecdc-f7d8-4718-925c-96d81c3765f3\"\n",
    "recommended_ads_df = content_based_recommendation(user_id_to_recommend, user_ad_interactions_df, tfidf_matrix)"
   ]
  },
  {
   "cell_type": "code",
   "execution_count": 13,
   "id": "a56c9b7f",
   "metadata": {},
   "outputs": [
    {
     "data": {
      "application/vnd.jupyter.widget-view+json": {
       "model_id": "",
       "version_major": 2,
       "version_minor": 0
      },
      "text/plain": [
       "FloatProgress(value=0.0, bar_style='info', description='Progress:', layout=Layout(height='25px', width='50%'),…"
      ]
     },
     "metadata": {},
     "output_type": "display_data"
    },
    {
     "name": "stdout",
     "output_type": "stream",
     "text": [
      "+--------------------+---------------------+\n",
      "|                adId|normalized_similarity|\n",
      "+--------------------+---------------------+\n",
      "|a4596d16-e59d-40c...|                  1.0|\n",
      "|023d7aba-d5df-459...|   0.9212657713315731|\n",
      "|bc4d3e39-7e06-4c3...|   0.8916957595411507|\n",
      "|d7f30c52-c3c5-410...|  0.15562010244980043|\n",
      "|e123eaef-e554-46a...|  0.14181959445060083|\n",
      "|60e6c683-e7da-4c5...|  0.13230808450847303|\n",
      "|1601cd49-e527-4df...|  0.13169043193727614|\n",
      "|f8931240-4505-4d3...|  0.12726839598649586|\n",
      "|9b8b83b2-36da-4ce...|   0.1268438520136554|\n",
      "|9f15ae6f-2c64-4d9...|  0.11723234333812588|\n",
      "+--------------------+---------------------+"
     ]
    }
   ],
   "source": [
    "recommended_ads_df.show()"
   ]
  },
  {
   "cell_type": "code",
   "execution_count": null,
   "id": "b894912b",
   "metadata": {},
   "outputs": [],
   "source": []
  }
 ],
 "metadata": {
  "kernelspec": {
   "display_name": "Sparkmagic (PySpark)",
   "language": "python",
   "name": "pysparkkernel"
  },
  "language_info": {
   "codemirror_mode": {
    "name": "python",
    "version": 3
   },
   "file_extension": ".py",
   "mimetype": "text/x-python",
   "name": "pyspark",
   "pygments_lexer": "python3"
  }
 },
 "nbformat": 4,
 "nbformat_minor": 5
}
