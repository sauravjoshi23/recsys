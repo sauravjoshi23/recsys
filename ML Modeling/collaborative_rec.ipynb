{
 "cells": [
  {
   "cell_type": "code",
   "execution_count": 2,
   "id": "6d18e500",
   "metadata": {},
   "outputs": [
    {
     "data": {
      "application/vnd.jupyter.widget-view+json": {
       "model_id": "",
       "version_major": 2,
       "version_minor": 0
      },
      "text/plain": [
       "FloatProgress(value=0.0, bar_style='info', description='Progress:', layout=Layout(height='25px', width='50%'),…"
      ]
     },
     "metadata": {},
     "output_type": "display_data"
    }
   ],
   "source": [
    "from pyspark.sql import SparkSession\n",
    "from pyspark.ml.feature import StringIndexer\n",
    "from pyspark.ml.recommendation import ALS\n",
    "from pyspark.sql.functions import explode, col, lit, array, struct, udf\n",
    "from pyspark.ml.evaluation import RegressionEvaluator\n",
    "from pyspark.sql.types import StringType"
   ]
  },
  {
   "cell_type": "code",
   "execution_count": 3,
   "id": "7154b225",
   "metadata": {},
   "outputs": [
    {
     "data": {
      "application/vnd.jupyter.widget-view+json": {
       "model_id": "",
       "version_major": 2,
       "version_minor": 0
      },
      "text/plain": [
       "FloatProgress(value=0.0, bar_style='info', description='Progress:', layout=Layout(height='25px', width='50%'),…"
      ]
     },
     "metadata": {},
     "output_type": "display_data"
    }
   ],
   "source": [
    "spark = SparkSession.builder.appName(\"recsys\").getOrCreate()"
   ]
  },
  {
   "cell_type": "code",
   "execution_count": 4,
   "id": "d22ab53b",
   "metadata": {},
   "outputs": [
    {
     "data": {
      "application/vnd.jupyter.widget-view+json": {
       "model_id": "",
       "version_major": 2,
       "version_minor": 0
      },
      "text/plain": [
       "FloatProgress(value=0.0, bar_style='info', description='Progress:', layout=Layout(height='25px', width='50%'),…"
      ]
     },
     "metadata": {},
     "output_type": "display_data"
    }
   ],
   "source": [
    "bucket = \"recsys-aws\"\n",
    "key_user_ad_matrix_prefix = \"silver_data/user_ad_matrix/\"\n",
    "user_ad_interactions_df = spark.read.csv(f\"s3://{bucket}/{key_user_ad_matrix_prefix}\",\n",
    "                                         header=True,\n",
    "                                         inferSchema=True)"
   ]
  },
  {
   "cell_type": "code",
   "execution_count": 5,
   "id": "c2a08f5a",
   "metadata": {},
   "outputs": [
    {
     "data": {
      "application/vnd.jupyter.widget-view+json": {
       "model_id": "",
       "version_major": 2,
       "version_minor": 0
      },
      "text/plain": [
       "FloatProgress(value=0.0, bar_style='info', description='Progress:', layout=Layout(height='25px', width='50%'),…"
      ]
     },
     "metadata": {},
     "output_type": "display_data"
    }
   ],
   "source": [
    "cols = [c for c in user_ad_interactions_df.columns if c != \"userId\"]\n",
    "long_format = (user_ad_interactions_df\n",
    "               .withColumn(\"adId_rating\", explode(array([struct(col(c).alias(\"rating\"), lit(c).alias(\"adId\")) for c in cols])))\n",
    "               .select(\"userId\", \"adId_rating.adId\", \"adId_rating.rating\"))\n",
    "\n",
    "user_indexer = StringIndexer(inputCol=\"userId\", outputCol=\"userId_indexed\")\n",
    "ad_indexer = StringIndexer(inputCol=\"adId\", outputCol=\"adId_indexed\")\n",
    "user_model = user_indexer.fit(long_format)\n",
    "adId_model = ad_indexer.fit(long_format)\n",
    "long_format = user_model.transform(long_format)\n",
    "long_format = adId_model.transform(long_format)"
   ]
  },
  {
   "cell_type": "code",
   "execution_count": 6,
   "id": "7f26d365",
   "metadata": {},
   "outputs": [
    {
     "data": {
      "application/vnd.jupyter.widget-view+json": {
       "model_id": "",
       "version_major": 2,
       "version_minor": 0
      },
      "text/plain": [
       "FloatProgress(value=0.0, bar_style='info', description='Progress:', layout=Layout(height='25px', width='50%'),…"
      ]
     },
     "metadata": {},
     "output_type": "display_data"
    }
   ],
   "source": [
    "(training, test) = long_format.randomSplit([0.8, 0.2])"
   ]
  },
  {
   "cell_type": "code",
   "execution_count": 7,
   "id": "356798fe",
   "metadata": {},
   "outputs": [
    {
     "data": {
      "application/vnd.jupyter.widget-view+json": {
       "model_id": "",
       "version_major": 2,
       "version_minor": 0
      },
      "text/plain": [
       "FloatProgress(value=0.0, bar_style='info', description='Progress:', layout=Layout(height='25px', width='50%'),…"
      ]
     },
     "metadata": {},
     "output_type": "display_data"
    }
   ],
   "source": [
    "als = ALS(\n",
    "    maxIter=10, \n",
    "    regParam=0.01, \n",
    "    userCol=\"userId_indexed\", \n",
    "    itemCol=\"adId_indexed\", \n",
    "    ratingCol=\"rating\", \n",
    "    coldStartStrategy=\"drop\"\n",
    ")"
   ]
  },
  {
   "cell_type": "code",
   "execution_count": 8,
   "id": "6280b1fb",
   "metadata": {},
   "outputs": [
    {
     "data": {
      "application/vnd.jupyter.widget-view+json": {
       "model_id": "",
       "version_major": 2,
       "version_minor": 0
      },
      "text/plain": [
       "FloatProgress(value=0.0, bar_style='info', description='Progress:', layout=Layout(height='25px', width='50%'),…"
      ]
     },
     "metadata": {},
     "output_type": "display_data"
    }
   ],
   "source": [
    "model = als.fit(training)"
   ]
  },
  {
   "cell_type": "code",
   "execution_count": 9,
   "id": "538758a6",
   "metadata": {},
   "outputs": [
    {
     "data": {
      "application/vnd.jupyter.widget-view+json": {
       "model_id": "",
       "version_major": 2,
       "version_minor": 0
      },
      "text/plain": [
       "FloatProgress(value=0.0, bar_style='info', description='Progress:', layout=Layout(height='25px', width='50%'),…"
      ]
     },
     "metadata": {},
     "output_type": "display_data"
    }
   ],
   "source": [
    "user_id_to_recommend = \"4f3aecdc-f7d8-4718-925c-96d81c3765f3\"\n",
    "n_recommendations = 10\n",
    "user_indexed = user_model.transform(spark.createDataFrame([(user_id_to_recommend,)], [\"userId\"]))\n",
    "recs = model.recommendForUserSubset(user_indexed, n_recommendations)\n",
    "recs = recs.withColumn(\"adId_indexed\", explode(col(\"recommendations.adId_indexed\")))"
   ]
  },
  {
   "cell_type": "code",
   "execution_count": 10,
   "id": "7f82abb1",
   "metadata": {},
   "outputs": [
    {
     "data": {
      "application/vnd.jupyter.widget-view+json": {
       "model_id": "",
       "version_major": 2,
       "version_minor": 0
      },
      "text/plain": [
       "FloatProgress(value=0.0, bar_style='info', description='Progress:', layout=Layout(height='25px', width='50%'),…"
      ]
     },
     "metadata": {},
     "output_type": "display_data"
    }
   ],
   "source": [
    "def index_to_id(index):\n",
    "    return ad_id_labels[int(index)]\n",
    "\n",
    "ad_id_labels = adId_model.labels\n",
    "index_to_id_udf = udf(index_to_id, StringType())\n",
    "recs_with_original_ids = recs.withColumn(\"original_adId\", index_to_id_udf(\"adId_indexed\"))"
   ]
  },
  {
   "cell_type": "code",
   "execution_count": 11,
   "id": "154479e0",
   "metadata": {},
   "outputs": [
    {
     "data": {
      "application/vnd.jupyter.widget-view+json": {
       "model_id": "",
       "version_major": 2,
       "version_minor": 0
      },
      "text/plain": [
       "FloatProgress(value=0.0, bar_style='info', description='Progress:', layout=Layout(height='25px', width='50%'),…"
      ]
     },
     "metadata": {},
     "output_type": "display_data"
    },
    {
     "name": "stdout",
     "output_type": "stream",
     "text": [
      "+--------------+--------------------+\n",
      "|userId_indexed|    recommended_adId|\n",
      "+--------------+--------------------+\n",
      "|            27|d83f913c-87e3-48c...|\n",
      "|            27|552bfdf5-f621-4ff...|\n",
      "|            27|d5f4d7ef-ac83-48f...|\n",
      "|            27|1a47c3ae-0788-442...|\n",
      "|            27|e8ea96db-964a-4ca...|\n",
      "|            27|bc4d3e39-7e06-4c3...|\n",
      "|            27|a4596d16-e59d-40c...|\n",
      "|            27|13a8f121-c79f-476...|\n",
      "|            27|55b3b717-b1d3-41c...|\n",
      "|            27|023d7aba-d5df-459...|\n",
      "+--------------+--------------------+"
     ]
    }
   ],
   "source": [
    "exploded_recommendations = recs_with_original_ids.select(\"userId_indexed\", explode(\"recommendations\").alias(\"recommendation\"))\n",
    "exploded_adId_indexed = exploded_recommendations.select(\"userId_indexed\", \"recommendation.adId_indexed\")\n",
    "\n",
    "labels_df = spark.createDataFrame([(i, label) for i, label in enumerate(ad_id_labels)], [\"index\", \"label\"])\n",
    "final_recommended_adIds = exploded_adId_indexed.join(labels_df, exploded_adId_indexed.adId_indexed == labels_df.index)\n",
    "final_result = final_recommended_adIds.select(\"userId_indexed\", \"label\").withColumnRenamed(\"label\", \"recommended_adId\")\n",
    "final_result = final_result.dropDuplicates(['userId_indexed', 'recommended_adId'])\n",
    "final_result.show()"
   ]
  },
  {
   "cell_type": "code",
   "execution_count": null,
   "id": "8a1c3677",
   "metadata": {},
   "outputs": [],
   "source": []
  }
 ],
 "metadata": {
  "kernelspec": {
   "display_name": "Sparkmagic (PySpark)",
   "language": "python",
   "name": "pysparkkernel"
  },
  "language_info": {
   "codemirror_mode": {
    "name": "python",
    "version": 3
   },
   "file_extension": ".py",
   "mimetype": "text/x-python",
   "name": "pyspark",
   "pygments_lexer": "python3"
  }
 },
 "nbformat": 4,
 "nbformat_minor": 5
}
